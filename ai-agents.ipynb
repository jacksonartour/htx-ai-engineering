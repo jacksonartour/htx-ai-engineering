{
 "cells": [
  {
   "cell_type": "markdown",
   "id": "738b87cd",
   "metadata": {},
   "source": [
    "# 0. load imports"
   ]
  },
  {
   "cell_type": "code",
   "execution_count": 172,
   "id": "82f9204b",
   "metadata": {},
   "outputs": [
    {
     "name": "stdout",
     "output_type": "stream",
     "text": [
      "Requirement already satisfied: pymupdf in c:\\python313\\lib\\site-packages (from -r requirements.txt (line 1)) (1.26.4)\n",
      "Requirement already satisfied: langchain in c:\\python313\\lib\\site-packages (from -r requirements.txt (line 2)) (0.3.27)\n",
      "Requirement already satisfied: langgraph in c:\\python313\\lib\\site-packages (from -r requirements.txt (line 3)) (0.6.8)\n",
      "Requirement already satisfied: pydantic in c:\\python313\\lib\\site-packages (from -r requirements.txt (line 4)) (2.11.9)\n",
      "Requirement already satisfied: python-dotenv in c:\\python313\\lib\\site-packages (from -r requirements.txt (line 5)) (1.1.1)\n",
      "Requirement already satisfied: langchain_google_genai in c:\\python313\\lib\\site-packages (from -r requirements.txt (line 6)) (2.1.12)\n",
      "Requirement already satisfied: langchain_core in c:\\python313\\lib\\site-packages (from -r requirements.txt (line 7)) (0.3.76)\n",
      "Requirement already satisfied: langchain-text-splitters<1.0.0,>=0.3.9 in c:\\python313\\lib\\site-packages (from langchain->-r requirements.txt (line 2)) (0.3.11)\n",
      "Requirement already satisfied: langsmith>=0.1.17 in c:\\python313\\lib\\site-packages (from langchain->-r requirements.txt (line 2)) (0.4.31)\n",
      "Requirement already satisfied: SQLAlchemy<3,>=1.4 in c:\\python313\\lib\\site-packages (from langchain->-r requirements.txt (line 2)) (2.0.43)\n",
      "Requirement already satisfied: requests<3,>=2 in c:\\python313\\lib\\site-packages (from langchain->-r requirements.txt (line 2)) (2.32.5)\n",
      "Requirement already satisfied: PyYAML>=5.3 in c:\\python313\\lib\\site-packages (from langchain->-r requirements.txt (line 2)) (6.0.2)\n",
      "Requirement already satisfied: langgraph-checkpoint<3.0.0,>=2.1.0 in c:\\python313\\lib\\site-packages (from langgraph->-r requirements.txt (line 3)) (2.1.1)\n",
      "Requirement already satisfied: langgraph-prebuilt<0.7.0,>=0.6.0 in c:\\python313\\lib\\site-packages (from langgraph->-r requirements.txt (line 3)) (0.6.4)\n",
      "Requirement already satisfied: langgraph-sdk<0.3.0,>=0.2.2 in c:\\python313\\lib\\site-packages (from langgraph->-r requirements.txt (line 3)) (0.2.9)\n",
      "Requirement already satisfied: xxhash>=3.5.0 in c:\\python313\\lib\\site-packages (from langgraph->-r requirements.txt (line 3)) (3.5.0)\n",
      "Requirement already satisfied: annotated-types>=0.6.0 in c:\\python313\\lib\\site-packages (from pydantic->-r requirements.txt (line 4)) (0.7.0)\n",
      "Requirement already satisfied: pydantic-core==2.33.2 in c:\\python313\\lib\\site-packages (from pydantic->-r requirements.txt (line 4)) (2.33.2)\n",
      "Requirement already satisfied: typing-extensions>=4.12.2 in c:\\python313\\lib\\site-packages (from pydantic->-r requirements.txt (line 4)) (4.15.0)\n",
      "Requirement already satisfied: typing-inspection>=0.4.0 in c:\\python313\\lib\\site-packages (from pydantic->-r requirements.txt (line 4)) (0.4.1)\n",
      "Requirement already satisfied: google-ai-generativelanguage<1,>=0.7 in c:\\python313\\lib\\site-packages (from langchain_google_genai->-r requirements.txt (line 6)) (0.7.0)\n",
      "Requirement already satisfied: filetype<2,>=1.2 in c:\\python313\\lib\\site-packages (from langchain_google_genai->-r requirements.txt (line 6)) (1.2.0)\n",
      "Requirement already satisfied: tenacity!=8.4.0,<10.0.0,>=8.1.0 in c:\\python313\\lib\\site-packages (from langchain_core->-r requirements.txt (line 7)) (9.1.2)\n",
      "Requirement already satisfied: jsonpatch<2.0,>=1.33 in c:\\python313\\lib\\site-packages (from langchain_core->-r requirements.txt (line 7)) (1.33)\n",
      "Requirement already satisfied: packaging>=23.2 in c:\\users\\riley\\appdata\\roaming\\python\\python313\\site-packages (from langchain_core->-r requirements.txt (line 7)) (25.0)\n",
      "Requirement already satisfied: google-api-core!=2.0.*,!=2.1.*,!=2.10.*,!=2.2.*,!=2.3.*,!=2.4.*,!=2.5.*,!=2.6.*,!=2.7.*,!=2.8.*,!=2.9.*,<3.0.0,>=1.34.1 in c:\\python313\\lib\\site-packages (from google-api-core[grpc]!=2.0.*,!=2.1.*,!=2.10.*,!=2.2.*,!=2.3.*,!=2.4.*,!=2.5.*,!=2.6.*,!=2.7.*,!=2.8.*,!=2.9.*,<3.0.0,>=1.34.1->google-ai-generativelanguage<1,>=0.7->langchain_google_genai->-r requirements.txt (line 6)) (2.25.1)\n",
      "Requirement already satisfied: google-auth!=2.24.0,!=2.25.0,<3.0.0,>=2.14.1 in c:\\python313\\lib\\site-packages (from google-ai-generativelanguage<1,>=0.7->langchain_google_genai->-r requirements.txt (line 6)) (2.41.0)\n",
      "Requirement already satisfied: proto-plus<2.0.0,>=1.22.3 in c:\\python313\\lib\\site-packages (from google-ai-generativelanguage<1,>=0.7->langchain_google_genai->-r requirements.txt (line 6)) (1.26.1)\n",
      "Requirement already satisfied: protobuf!=4.21.0,!=4.21.1,!=4.21.2,!=4.21.3,!=4.21.4,!=4.21.5,<7.0.0,>=3.20.2 in c:\\python313\\lib\\site-packages (from google-ai-generativelanguage<1,>=0.7->langchain_google_genai->-r requirements.txt (line 6)) (6.32.1)\n",
      "Requirement already satisfied: jsonpointer>=1.9 in c:\\python313\\lib\\site-packages (from jsonpatch<2.0,>=1.33->langchain_core->-r requirements.txt (line 7)) (3.0.0)\n",
      "Requirement already satisfied: ormsgpack>=1.10.0 in c:\\python313\\lib\\site-packages (from langgraph-checkpoint<3.0.0,>=2.1.0->langgraph->-r requirements.txt (line 3)) (1.10.0)\n",
      "Requirement already satisfied: httpx>=0.25.2 in c:\\python313\\lib\\site-packages (from langgraph-sdk<0.3.0,>=0.2.2->langgraph->-r requirements.txt (line 3)) (0.28.1)\n",
      "Requirement already satisfied: orjson>=3.10.1 in c:\\python313\\lib\\site-packages (from langgraph-sdk<0.3.0,>=0.2.2->langgraph->-r requirements.txt (line 3)) (3.11.3)\n",
      "Requirement already satisfied: requests-toolbelt>=1.0.0 in c:\\python313\\lib\\site-packages (from langsmith>=0.1.17->langchain->-r requirements.txt (line 2)) (1.0.0)\n",
      "Requirement already satisfied: zstandard>=0.23.0 in c:\\python313\\lib\\site-packages (from langsmith>=0.1.17->langchain->-r requirements.txt (line 2)) (0.25.0)\n",
      "Requirement already satisfied: charset_normalizer<4,>=2 in c:\\python313\\lib\\site-packages (from requests<3,>=2->langchain->-r requirements.txt (line 2)) (3.4.3)\n",
      "Requirement already satisfied: idna<4,>=2.5 in c:\\python313\\lib\\site-packages (from requests<3,>=2->langchain->-r requirements.txt (line 2)) (3.10)\n",
      "Requirement already satisfied: urllib3<3,>=1.21.1 in c:\\python313\\lib\\site-packages (from requests<3,>=2->langchain->-r requirements.txt (line 2)) (2.5.0)\n",
      "Requirement already satisfied: certifi>=2017.4.17 in c:\\python313\\lib\\site-packages (from requests<3,>=2->langchain->-r requirements.txt (line 2)) (2025.8.3)\n",
      "Requirement already satisfied: greenlet>=1 in c:\\python313\\lib\\site-packages (from SQLAlchemy<3,>=1.4->langchain->-r requirements.txt (line 2)) (3.2.4)\n",
      "Requirement already satisfied: googleapis-common-protos<2.0.0,>=1.56.2 in c:\\python313\\lib\\site-packages (from google-api-core!=2.0.*,!=2.1.*,!=2.10.*,!=2.2.*,!=2.3.*,!=2.4.*,!=2.5.*,!=2.6.*,!=2.7.*,!=2.8.*,!=2.9.*,<3.0.0,>=1.34.1->google-api-core[grpc]!=2.0.*,!=2.1.*,!=2.10.*,!=2.2.*,!=2.3.*,!=2.4.*,!=2.5.*,!=2.6.*,!=2.7.*,!=2.8.*,!=2.9.*,<3.0.0,>=1.34.1->google-ai-generativelanguage<1,>=0.7->langchain_google_genai->-r requirements.txt (line 6)) (1.70.0)\n",
      "Requirement already satisfied: grpcio<2.0.0,>=1.33.2 in c:\\python313\\lib\\site-packages (from google-api-core[grpc]!=2.0.*,!=2.1.*,!=2.10.*,!=2.2.*,!=2.3.*,!=2.4.*,!=2.5.*,!=2.6.*,!=2.7.*,!=2.8.*,!=2.9.*,<3.0.0,>=1.34.1->google-ai-generativelanguage<1,>=0.7->langchain_google_genai->-r requirements.txt (line 6)) (1.75.1)\n",
      "Requirement already satisfied: grpcio-status<2.0.0,>=1.33.2 in c:\\python313\\lib\\site-packages (from google-api-core[grpc]!=2.0.*,!=2.1.*,!=2.10.*,!=2.2.*,!=2.3.*,!=2.4.*,!=2.5.*,!=2.6.*,!=2.7.*,!=2.8.*,!=2.9.*,<3.0.0,>=1.34.1->google-ai-generativelanguage<1,>=0.7->langchain_google_genai->-r requirements.txt (line 6)) (1.75.1)\n",
      "Requirement already satisfied: cachetools<7.0,>=2.0.0 in c:\\python313\\lib\\site-packages (from google-auth!=2.24.0,!=2.25.0,<3.0.0,>=2.14.1->google-ai-generativelanguage<1,>=0.7->langchain_google_genai->-r requirements.txt (line 6)) (6.2.0)\n",
      "Requirement already satisfied: pyasn1-modules>=0.2.1 in c:\\python313\\lib\\site-packages (from google-auth!=2.24.0,!=2.25.0,<3.0.0,>=2.14.1->google-ai-generativelanguage<1,>=0.7->langchain_google_genai->-r requirements.txt (line 6)) (0.4.2)\n",
      "Requirement already satisfied: rsa<5,>=3.1.4 in c:\\python313\\lib\\site-packages (from google-auth!=2.24.0,!=2.25.0,<3.0.0,>=2.14.1->google-ai-generativelanguage<1,>=0.7->langchain_google_genai->-r requirements.txt (line 6)) (4.9.1)\n",
      "Requirement already satisfied: anyio in c:\\python313\\lib\\site-packages (from httpx>=0.25.2->langgraph-sdk<0.3.0,>=0.2.2->langgraph->-r requirements.txt (line 3)) (4.10.0)\n",
      "Requirement already satisfied: httpcore==1.* in c:\\python313\\lib\\site-packages (from httpx>=0.25.2->langgraph-sdk<0.3.0,>=0.2.2->langgraph->-r requirements.txt (line 3)) (1.0.9)\n",
      "Requirement already satisfied: h11>=0.16 in c:\\python313\\lib\\site-packages (from httpcore==1.*->httpx>=0.25.2->langgraph-sdk<0.3.0,>=0.2.2->langgraph->-r requirements.txt (line 3)) (0.16.0)\n",
      "Requirement already satisfied: pyasn1<0.7.0,>=0.6.1 in c:\\python313\\lib\\site-packages (from pyasn1-modules>=0.2.1->google-auth!=2.24.0,!=2.25.0,<3.0.0,>=2.14.1->google-ai-generativelanguage<1,>=0.7->langchain_google_genai->-r requirements.txt (line 6)) (0.6.1)\n",
      "Requirement already satisfied: sniffio>=1.1 in c:\\python313\\lib\\site-packages (from anyio->httpx>=0.25.2->langgraph-sdk<0.3.0,>=0.2.2->langgraph->-r requirements.txt (line 3)) (1.3.1)\n"
     ]
    },
    {
     "name": "stderr",
     "output_type": "stream",
     "text": [
      "\n",
      "[notice] A new release of pip is available: 24.3.1 -> 25.2\n",
      "[notice] To update, run: python.exe -m pip install --upgrade pip\n"
     ]
    }
   ],
   "source": [
    "!pip install -r requirements.txt"
   ]
  },
  {
   "cell_type": "code",
   "execution_count": 173,
   "id": "24715f73",
   "metadata": {},
   "outputs": [
    {
     "name": "stdout",
     "output_type": "stream",
     "text": [
      "GEMINI_API_KEY loaded successfully\n",
      "Imports loaded successfully!\n"
     ]
    }
   ],
   "source": [
    "import json\n",
    "import re\n",
    "from typing import List, Optional\n",
    "from pydantic import BaseModel, Field\n",
    "from langchain_core.tools import tool\n",
    "from langchain.schema import BaseMessage, HumanMessage, SystemMessage\n",
    "from langchain.prompts import ChatPromptTemplate\n",
    "from langchain_google_genai import ChatGoogleGenerativeAI\n",
    "import os\n",
    "import dotenv\n",
    "\n",
    "\n",
    "# Load environment variables\n",
    "dotenv.load_dotenv()\n",
    "\n",
    "# Get API key\n",
    "GEMINI_API_KEY = os.getenv(\"GEMINI_API_KEY\")\n",
    "\n",
    "if not GEMINI_API_KEY:\n",
    "    print(\"Warning: GEMINI_API_KEY not found in environment variables\")\n",
    "    print(\"Please make sure to set your API key in the .env file\")\n",
    "else:\n",
    "    print(\"GEMINI_API_KEY loaded successfully\")\n",
    "\n",
    "print(\"Imports loaded successfully!\")"
   ]
  },
  {
   "cell_type": "code",
   "execution_count": 174,
   "id": "251ea607",
   "metadata": {},
   "outputs": [],
   "source": [
    "GEMINI_API_KEY = os.getenv(\"GEMINI_API_KEY\")"
   ]
  },
  {
   "cell_type": "code",
   "execution_count": 175,
   "id": "9a99bd97",
   "metadata": {},
   "outputs": [
    {
     "name": "stdout",
     "output_type": "stream",
     "text": [
      "LLM initialized successfully!\n"
     ]
    }
   ],
   "source": [
    "try:\n",
    "    llm = ChatGoogleGenerativeAI(\n",
    "        model=\"gemini-2.0-flash\", \n",
    "        temperature=0, \n",
    "        api_key=GEMINI_API_KEY,\n",
    "        convert_system_message_to_human=True\n",
    "    )\n",
    "    print(\"LLM initialized successfully!\")\n",
    "except Exception as e:\n",
    "    print(f\"Error initializing LLM: {e}\")\n",
    "    llm = None"
   ]
  },
  {
   "cell_type": "code",
   "execution_count": 176,
   "id": "76a4d415",
   "metadata": {},
   "outputs": [],
   "source": [
    "DEFAULT_SYSTEM_MESSAGE = \"You are a helpful assistant that extracts financial data from documents.\""
   ]
  },
  {
   "cell_type": "code",
   "execution_count": 177,
   "id": "f0759a34",
   "metadata": {},
   "outputs": [
    {
     "name": "stdout",
     "output_type": "stream",
     "text": [
      "I'm doing well, thank you for asking! I'm ready to assist you with extracting financial data from documents. Just let me know what you need. How can I help you today?\n"
     ]
    }
   ],
   "source": [
    "res = llm.invoke([\n",
    "        SystemMessage(content=DEFAULT_SYSTEM_MESSAGE),\n",
    "        HumanMessage(content=\"Hey how are you?\")\n",
    "    ])\n",
    "print(res.content)"
   ]
  },
  {
   "cell_type": "markdown",
   "id": "6b6af501",
   "metadata": {},
   "source": [
    "# 1. Document extraction & Prompt engineering"
   ]
  },
  {
   "cell_type": "code",
   "execution_count": 178,
   "id": "72f2f395",
   "metadata": {},
   "outputs": [],
   "source": [
    "DATA_SOURCE_FILE_NAME = \"fy2024_analysis_of_revenue_and_expenditure.pdf\""
   ]
  },
  {
   "cell_type": "code",
   "execution_count": 179,
   "id": "8c9c050c",
   "metadata": {},
   "outputs": [
    {
     "name": "stdout",
     "output_type": "stream",
     "text": [
      "Imports loaded successfully!\n"
     ]
    }
   ],
   "source": [
    "class FinancialExtractionOutput(BaseModel):\n",
    "    \"\"\"Structured output for financial data extraction from the PDF\"\"\"\n",
    "    \n",
    "    corporate_income_tax_2024: Optional[float] = Field(\n",
    "        description=\"Amount of Corporate Income Tax in 2024 (in millions or appropriate unit)\"\n",
    "    )\n",
    "    \n",
    "    yoy_percentage_corp_income_tax_2024: Optional[float] = Field(\n",
    "        description=\"Year-on-year percentage difference of Corporate Income Tax in 2024\"\n",
    "    )\n",
    "    \n",
    "    total_top_ups_2024: Optional[float] = Field(\n",
    "        description=\"Total amount of top ups in 2024 (in millions or appropriate unit)\"\n",
    "    )\n",
    "    \n",
    "    operating_revenue_taxes: List[str] = Field(\n",
    "        description=\"List of taxes mentioned in the Operating Revenue section\"\n",
    "    )\n",
    "\n",
    "print(\"Imports loaded successfully!\")"
   ]
  },
  {
   "cell_type": "code",
   "execution_count": 180,
   "id": "934aed80",
   "metadata": {},
   "outputs": [
    {
     "name": "stdout",
     "output_type": "stream",
     "text": [
      "MINISTRY OF FINANCE \n",
      " \n",
      "5 \n",
      " \n",
      "01 Update on Financial Year 2023 \n",
      " \n",
      "1.1 \n",
      "Expected Overall Fiscal Position for FY2023  \n",
      " \n",
      "The basic deficit is revised to $5.4 billion (0.8% of GDP). After factoring in Top-\n",
      "ups to Endowment and Trust Funds of $24.3 billion, Net Investment Returns \n",
      "Contribution (NIRC) of $22.9 billion, Capitalisation of Nationally Significant \n",
      "Infrastructure of $3.5 billion, and Significant Infrastructure Government Loan \n",
      "Act (SINGA) Interest Costs and Loan Expenses of $0.2 billion, the Overall Fiscal \n",
      "Position for Revised FY2023 is a deficit of $3.6 billion (0.5% of GDP). This is larger \n",
      "than the $0.4 billion deficit estimated at Budget 2023. This is due to higher Total \n",
      "Expenditure to meet priority areas such as catching up of projects deferred due \n",
      "to COVID-19; funding for public healthcare institutions; and a top-up to the \n",
      "Majulah Package Fund to boost the retirement and healthcare adequacy of \n",
      "Singaporeans, as announced by Prime Minister Lee Hsien Loong at the National \n",
      "Day Rally 2023; partially offset by higher-than-expected Operating Revenue, \n",
      "mainly due to stronger-than-expected economic growth.  \n",
      " \n",
      "The Revised FY2023 fiscal position is shown in Table 1.1. \n",
      " \n",
      "1.2 \n",
      "Operating Revenue \n",
      " \n",
      "Revised FY2023 Operating Revenue is $104.3 billion, which is $7.6 billion (7.9%) \n",
      "higher than the Estimated FY2023 figure. This increase is mainly due to higher \n",
      "collections from Corporate Income Tax, Other Taxes, Vehicle Quota Premiums, \n",
      "Personal Income Tax, Assets Taxes, and Betting Taxes, partially offset by lower \n",
      "collections from the Goods and Services Tax. \n",
      " \n",
      "Corporate Income Tax collections are revised to $28.4 billion, which is                \n",
      "$4.1 billion (17.0%) higher than the Estimated FY2023 figure due to stronger-\n",
      "than-expected economic growth in 2022. Collections from Other Taxes, which \n",
      "include the Foreign Worker Levy, Water Conservation Tax, Land Betterment \n",
      "Charge, and Annual Tonnage Tax, are revised to $8.8 billion, which is $2.1 billion \n",
      "(32.3%) higher than the Estimated FY2023 figure. This is mainly due to higher \n",
      "Land Betterment Charge collections from unforeseen redevelopment projects. \n",
      "Vehicle Quota Premiums collections are revised to $4.7 billion, which is             \n",
      "$0.8 billion (20.1%) higher than the Estimated FY2023 figure due to the \n",
      "Government bringing forward COE quota from future years. Personal Income \n",
      "\n"
     ]
    }
   ],
   "source": [
    "import pymupdf  \n",
    "\n",
    "with pymupdf.open(DATA_SOURCE_FILE_NAME) as doc:\n",
    "    pdf_text = {}\n",
    "    for page_num in range(len(doc)):\n",
    "        page = doc[page_num]\n",
    "        pdf_text[page_num + 1] = page.get_text()\n",
    "\n",
    "# page 5\n",
    "print(pdf_text[5])"
   ]
  },
  {
   "cell_type": "markdown",
   "id": "d791e88b",
   "metadata": {},
   "source": [
    "Separate prompts so we don't blow the context window, or exceed free tier input token limit"
   ]
  },
  {
   "cell_type": "code",
   "execution_count": 181,
   "id": "8f4c4a3b",
   "metadata": {},
   "outputs": [],
   "source": [
    "# Prompt for Corporate Income Tax Amount in 2024 (page 5)\n",
    "corp_income_tax_prompt = \"\"\"\n",
    "Extract the exact amount of Corporate Income Tax specified from the following page text. \n",
    "Assume units is in billions, return only the number as a float.\n",
    "\n",
    "PAGE TEXT:\n",
    "{page_text}\n",
    "\"\"\"\n",
    "\n",
    "# Prompt for YOY Percentage Difference of Corporate Income Tax in 2024 (page 5)\n",
    "yoy_corp_income_tax_prompt = \"\"\"\n",
    "Extract the year-over-year percentage change of Corporate Income Tax from from the following page text. The text may not specify the specific year. \n",
    "Assume units is in billions, return only the number as a float.\n",
    "\n",
    "PAGE TEXT:\n",
    "{page_text}\n",
    "\"\"\"\n",
    "\n",
    "# Prompt for Total Amount of Top-ups in 2024 (page 20)\n",
    "total_top_ups_prompt = \"\"\"\n",
    "Extract the total amount of all top-ups to endowment and trust funds for FY2024 from the following page text.\n",
    "Assume units is in billions, return only the number as a float.\n",
    "\n",
    "PAGE TEXT:\n",
    "{page_text}\n",
    "\"\"\"\n",
    "\n",
    "# Prompt for List of Taxes in Operating Revenue Section (pages 5-6)\n",
    "operating_revenue_taxes_prompt = \"\"\"\n",
    "Identify all types of taxes mentioned in the \"Operating Revenue\" section from the following page text. \n",
    "Return a list of the exact tax names as strings.\n",
    "\n",
    "PAGE TEXT:\n",
    "{page_text}\n",
    "\"\"\""
   ]
  },
  {
   "cell_type": "code",
   "execution_count": 182,
   "id": "a3bdb70e",
   "metadata": {},
   "outputs": [],
   "source": [
    "def extract_financial_data_from_pdf(pdf_text: dict, llm) -> FinancialExtractionOutput:\n",
    "    \"\"\"\n",
    "    Extracts financial data from specific pages of the PDF using LLM prompts.\n",
    "    Args:\n",
    "        pdf_text (dict): Dictionary mapping page numbers to page text.\n",
    "        llm: The language model instance to use for extraction.\n",
    "    Returns:\n",
    "        FinancialExtractionOutput: Structured extraction result.\n",
    "    \"\"\"\n",
    "    # Corporate Income Tax Amount for 2024 (page 5)\n",
    "    corp_income_tax_resp = llm.invoke([\n",
    "        SystemMessage(content=DEFAULT_SYSTEM_MESSAGE),\n",
    "        HumanMessage(content=corp_income_tax_prompt.format(page_text=pdf_text[5]))\n",
    "    ]).content\n",
    "    print(f\"Corporate Income Tax Response: {corp_income_tax_resp}\")\n",
    "    try:\n",
    "        corporate_income_tax_2024 = float(corp_income_tax_resp)\n",
    "    except Exception:\n",
    "        corporate_income_tax_2024 = None\n",
    "\n",
    "    # YOY Percentage Difference of Corporate Income Tax in 2024 (page 5)\n",
    "    yoy_corp_income_tax_resp = llm.invoke([\n",
    "        SystemMessage(content=DEFAULT_SYSTEM_MESSAGE),\n",
    "        HumanMessage(content=yoy_corp_income_tax_prompt.format(page_text=pdf_text[5]))\n",
    "    ]).content\n",
    "    print(f\"YOY Corporate Income Tax Response: {yoy_corp_income_tax_resp}\")\n",
    "    try:\n",
    "        yoy_percentage_corp_income_tax_2024 = float(yoy_corp_income_tax_resp)\n",
    "    except Exception:\n",
    "        yoy_percentage_corp_income_tax_2024 = None\n",
    "\n",
    "    # Total Amount of Top-ups in 2024 (page 20)\n",
    "    total_top_ups_resp = llm.invoke([\n",
    "        SystemMessage(content=DEFAULT_SYSTEM_MESSAGE),\n",
    "        HumanMessage(content=total_top_ups_prompt.format(page_text=pdf_text[20]))\n",
    "    ]).content\n",
    "    print(f\"Total Top-ups Response: {total_top_ups_resp}\")\n",
    "    try:\n",
    "        total_top_ups_2024 = float(total_top_ups_resp)\n",
    "    except Exception:\n",
    "        total_top_ups_2024 = None\n",
    "\n",
    "    # List of Taxes in Operating Revenue Section (pages 5-6)\n",
    "    operating_revenue_text = pdf_text[5] + \"\\n\" + pdf_text[6]\n",
    "    operating_revenue_taxes_resp = llm.invoke([\n",
    "        SystemMessage(content=DEFAULT_SYSTEM_MESSAGE),\n",
    "        HumanMessage(content=operating_revenue_taxes_prompt.format(page_text=operating_revenue_text))\n",
    "    ]).content\n",
    "    print(f\"Operating Revenue Taxes Response: {operating_revenue_taxes_resp}\")\n",
    "    try:\n",
    "        taxes = json.loads(operating_revenue_taxes_resp)\n",
    "        if not isinstance(taxes, list):\n",
    "            raise ValueError\n",
    "        operating_revenue_taxes = taxes\n",
    "    except Exception:\n",
    "        operating_revenue_taxes = [operating_revenue_taxes_resp]\n",
    "\n",
    "    return FinancialExtractionOutput(\n",
    "        corporate_income_tax_2024=corporate_income_tax_2024,\n",
    "        yoy_percentage_corp_income_tax_2024=yoy_percentage_corp_income_tax_2024,\n",
    "        total_top_ups_2024=total_top_ups_2024,\n",
    "        operating_revenue_taxes=operating_revenue_taxes\n",
    "    )"
   ]
  },
  {
   "cell_type": "code",
   "execution_count": 183,
   "id": "89767109",
   "metadata": {},
   "outputs": [
    {
     "name": "stdout",
     "output_type": "stream",
     "text": [
      "Corporate Income Tax Response: 28.4\n",
      "YOY Corporate Income Tax Response: 17.0\n",
      "Total Top-ups Response: 20.352\n",
      "Operating Revenue Taxes Response: Here's a list of the tax names mentioned in the \"Operating Revenue\" section of the provided text:\n",
      "\n",
      "*   \"Corporate Income Tax\"\n",
      "*   \"Other Taxes\"\n",
      "*   \"Personal Income Tax\"\n",
      "*   \"Assets Taxes\"\n",
      "*   \"Betting Taxes\"\n",
      "*   \"Goods and Services Tax\"\n",
      "*   \"Water Conservation Tax\"\n",
      "*   \"Annual Tonnage Tax\"\n",
      "*   \"Casino Taxes\"\n"
     ]
    }
   ],
   "source": [
    "extracted_data = extract_financial_data_from_pdf(pdf_text, llm)"
   ]
  },
  {
   "cell_type": "markdown",
   "id": "1e3edd38",
   "metadata": {},
   "source": [
    "### Final output for extracted data"
   ]
  },
  {
   "cell_type": "code",
   "execution_count": 184,
   "id": "abdb107a",
   "metadata": {},
   "outputs": [
    {
     "name": "stdout",
     "output_type": "stream",
     "text": [
      "{'corporate_income_tax_2024': 28.4,\n",
      " 'operating_revenue_taxes': [\"Here's a list of the tax names mentioned in the \"\n",
      "                             '\"Operating Revenue\" section of the provided '\n",
      "                             'text:\\n'\n",
      "                             '\\n'\n",
      "                             '*   \"Corporate Income Tax\"\\n'\n",
      "                             '*   \"Other Taxes\"\\n'\n",
      "                             '*   \"Personal Income Tax\"\\n'\n",
      "                             '*   \"Assets Taxes\"\\n'\n",
      "                             '*   \"Betting Taxes\"\\n'\n",
      "                             '*   \"Goods and Services Tax\"\\n'\n",
      "                             '*   \"Water Conservation Tax\"\\n'\n",
      "                             '*   \"Annual Tonnage Tax\"\\n'\n",
      "                             '*   \"Casino Taxes\"'],\n",
      " 'total_top_ups_2024': 20.352,\n",
      " 'yoy_percentage_corp_income_tax_2024': 17.0}\n"
     ]
    },
    {
     "name": "stderr",
     "output_type": "stream",
     "text": [
      "C:\\Users\\riley\\AppData\\Local\\Temp\\ipykernel_10776\\1254583981.py:3: PydanticDeprecatedSince20: The `dict` method is deprecated; use `model_dump` instead. Deprecated in Pydantic V2.0 to be removed in V3.0. See Pydantic V2 Migration Guide at https://errors.pydantic.dev/2.11/migration/\n",
      "  pprint(extracted_data.dict())\n"
     ]
    }
   ],
   "source": [
    "from pprint import pprint\n",
    "\n",
    "pprint(extracted_data.dict())"
   ]
  },
  {
   "cell_type": "markdown",
   "id": "cfcaf8be",
   "metadata": {},
   "source": [
    "# 2. Tool Calling & Reasoning Integration"
   ]
  },
  {
   "cell_type": "code",
   "execution_count": 185,
   "id": "5b900d52",
   "metadata": {},
   "outputs": [],
   "source": [
    "from langchain.output_parsers import PydanticOutputParser\n",
    "from datetime import datetime\n",
    "from typing import List, Optional\n",
    "from pydantic import BaseModel, Field\n"
   ]
  },
  {
   "cell_type": "markdown",
   "id": "da655da5",
   "metadata": {},
   "source": [
    "Define new tool with decorator"
   ]
  },
  {
   "cell_type": "code",
   "execution_count": 186,
   "id": "37229002",
   "metadata": {},
   "outputs": [],
   "source": [
    "\n",
    "\n",
    "@tool\n",
    "def normalize_submission_date(date_str: str) -> str:\n",
    "    \"\"\"\n",
    "    Use this tool to convert dates into YYYY-MM-DD format.\n",
    "    \"\"\"\n",
    "    try:\n",
    "        dt = datetime.strptime(date_str.strip(), \"%d %B %Y\")\n",
    "        return dt.strftime(\"%Y-%m-%d\")\n",
    "    except Exception as e:\n",
    "        print(f\"Error normalizing date: {e}\")\n",
    "        return None"
   ]
  },
  {
   "cell_type": "markdown",
   "id": "5d6143dd",
   "metadata": {},
   "source": [
    "Define a pydantic class to force structured output"
   ]
  },
  {
   "cell_type": "code",
   "execution_count": 187,
   "id": "5dc00183",
   "metadata": {},
   "outputs": [],
   "source": [
    "\n",
    "class DateExtractionOutput(BaseModel):\n",
    "    original_text: str = Field(description=\"Original text parsed into the LLM\")\n",
    "    normalized_date: Optional[str] = Field(description=\"Date in YYYY-MM-DD format, if found\")\n",
    "    status: Optional[str] = Field(description=\"Status of the date (Upcoming if > 2024-01-01, Expired if < 2024-01-01, Ongoing if = 2024-01-01), compared against the date of 2024-01-01\")\n"
   ]
  },
  {
   "cell_type": "code",
   "execution_count": 192,
   "id": "65eb8d1c",
   "metadata": {},
   "outputs": [
    {
     "name": "stdout",
     "output_type": "stream",
     "text": [
      "Agent with structured output created successfully!\n"
     ]
    }
   ],
   "source": [
    "# Create an agent that can use tools for date normalization with structured output\n",
    "from langchain.agents import AgentExecutor, create_tool_calling_agent\n",
    "\n",
    "agent_system_prompt = \"\"\"You are a helpful assistant that processes text and normalizes dates.\n",
    "\n",
    "CRITICAL INSTRUCTIONS - YOU MUST FOLLOW THESE EXACTLY:\n",
    "\n",
    "1. TOOL USAGE IS MANDATORY:\n",
    "   - When you find ANY date in \"DD Month YYYY\" format (e.g., \"15 March 2024\"), you MUST call the normalize_submission_date tool\n",
    "   - DO NOT convert dates manually or use your own logic\n",
    "   - DO NOT proceed to step 2 until you have called the tool and received the normalized date\n",
    "   - If there is a date pattern, calling the tool is REQUIRED, not optional\n",
    "\n",
    "2. DATE COMPARISON:\n",
    "   After receiving the normalized date from the tool, compare it against 2024-01-01:\n",
    "   - \"Upcoming\" if normalized_date > 2024-01-01\n",
    "   - \"Expired\" if normalized_date < 2024-01-01\n",
    "   - \"Ongoing\" if normalized_date = 2024-01-01\n",
    "\n",
    "3. OUTPUT FORMAT:\n",
    "   Return ONLY this JSON structure with no additional text:\n",
    "   {{\n",
    "       \"original_text\": \"the original input text\",\n",
    "       \"normalized_date\": \"YYYY-MM-DD from tool output, or null if no date found\",\n",
    "       \"status\": \"Ongoing/Upcoming/Expired/null if no date found\"\n",
    "   }}\n",
    "\n",
    "WORKFLOW:\n",
    "Step 1: Analyze input for dates in \"DD Month YYYY\" format\n",
    "Step 2: If date found → CALL normalize_submission_date tool (MANDATORY)\n",
    "Step 3: Wait for tool response\n",
    "Step 4: Use tool output to determine status\n",
    "Step 5: Return JSON with results\n",
    "\n",
    "If no date is found in the input, return the JSON with normalized_date and status as null.\n",
    "\n",
    "Remember: You cannot determine the normalized date yourself. You MUST use the tool.\"\"\"\n",
    "\n",
    "# Create the prompt template for the agent\n",
    "agent_prompt = ChatPromptTemplate.from_messages([\n",
    "    (\"system\", agent_system_prompt),\n",
    "    (\"human\", \"{input}\"),\n",
    "    (\"placeholder\", \"{agent_scratchpad}\"),\n",
    "])\n",
    "\n",
    "# Create the tool list\n",
    "tools = [normalize_submission_date]\n",
    "\n",
    "# Create output parser for post-processing\n",
    "output_parser = PydanticOutputParser(pydantic_object=DateExtractionOutput)\n",
    "\n",
    "# Create the agent\n",
    "agent = create_tool_calling_agent(llm, tools, agent_prompt)\n",
    "\n",
    "agent_executor = AgentExecutor(agent=agent, tools=tools, verbose=True)\n",
    "\n",
    "# Wrapper function to parse agent output\n",
    "def process_with_structured_output(text: str) -> DateExtractionOutput:\n",
    "    result = agent_executor.invoke({\"input\": text})\n",
    "    # Parse the agent's output into structured format\n",
    "    return output_parser.parse(result[\"output\"])\n",
    "\n",
    "print(\"Agent with structured output created successfully!\")"
   ]
  },
  {
   "cell_type": "markdown",
   "id": "0d05b824",
   "metadata": {},
   "source": [
    "Test process_with_structured_output"
   ]
  },
  {
   "cell_type": "code",
   "execution_count": 193,
   "id": "9a1405b5",
   "metadata": {},
   "outputs": [
    {
     "name": "stdout",
     "output_type": "stream",
     "text": [
      "\n",
      "\n",
      "\u001b[1m> Entering new AgentExecutor chain...\u001b[0m\n",
      "\u001b[32;1m\u001b[1;3m\n",
      "Invoking: `normalize_submission_date` with `{'date_str': '15 March 2024'}`\n",
      "\n",
      "\n",
      "\u001b[0m\u001b[36;1m\u001b[1;3m2024-03-15\u001b[0m\u001b[32;1m\u001b[1;3m```json\n",
      "{\n",
      "    \"original_text\": \"The submission was on 15 March 2024\",\n",
      "    \"normalized_date\": \"2024-03-15\",\n",
      "    \"status\": \"Upcoming\"\n",
      "}\n",
      "```\u001b[0m\n",
      "\n",
      "\u001b[1m> Finished chain.\u001b[0m\n"
     ]
    }
   ],
   "source": [
    "result_structured = process_with_structured_output(\"The submission was on 15 March 2024\")\n"
   ]
  },
  {
   "cell_type": "markdown",
   "id": "fd43cceb",
   "metadata": {},
   "source": [
    "Test with pdf_text page 1 and 36"
   ]
  },
  {
   "cell_type": "code",
   "execution_count": 194,
   "id": "ea74b3f4",
   "metadata": {},
   "outputs": [
    {
     "name": "stdout",
     "output_type": "stream",
     "text": [
      "\n",
      "\n",
      "\u001b[1m> Entering new AgentExecutor chain...\u001b[0m\n",
      "\u001b[32;1m\u001b[1;3m\n",
      "Invoking: `normalize_submission_date` with `{'date_str': '16 February 2024'}`\n",
      "\n",
      "\n",
      "\u001b[0m\u001b[36;1m\u001b[1;3m2024-02-16\u001b[0m\u001b[32;1m\u001b[1;3m```json\n",
      "{\n",
      "    \"original_text\": \"REVENUE AND \\nEXPENDITURE \\nFinancial Year 2024  \\n \\n \\n \\n \\n \\n \\n \\n \\nDistributed on Budget Day: 16 February 2024\",\n",
      "    \"normalized_date\": \"2024-02-16\",\n",
      "    \"status\": \"Upcoming\"\n",
      "}\n",
      "```\u001b[0m\n",
      "\n",
      "\u001b[1m> Finished chain.\u001b[0m\n",
      "original_text='REVENUE AND \\nEXPENDITURE \\nFinancial Year 2024  \\n \\n \\n \\n \\n \\n \\n \\n \\nDistributed on Budget Day: 16 February 2024' normalized_date='2024-02-16' status='Upcoming'\n",
      "Original text: REVENUE AND \n",
      "EXPENDITURE \n",
      "Financial Year 2024  \n",
      " \n",
      " \n",
      " \n",
      " \n",
      " \n",
      " \n",
      " \n",
      " \n",
      "Distributed on Budget Day: 16 February 2024\n",
      "Normalized date: 2024-02-16\n",
      "Status: Upcoming\n"
     ]
    }
   ],
   "source": [
    "\n",
    "page_1_result = process_with_structured_output(pdf_text[1])\n",
    "\n",
    "\n",
    "print(page_1_result)\n",
    "print(\"Original text:\", page_1_result.original_text)\n",
    "print(\"Normalized date:\", page_1_result.normalized_date)\n",
    "print(\"Status:\", page_1_result.status)"
   ]
  },
  {
   "cell_type": "markdown",
   "id": "ab8281cf",
   "metadata": {},
   "source": [
    "**NOTE: Sometimes the LLM may not invoke the tool, highly depends on the model capabilities**"
   ]
  },
  {
   "cell_type": "code",
   "execution_count": null,
   "id": "c3cafeac",
   "metadata": {},
   "outputs": [
    {
     "name": "stdout",
     "output_type": "stream",
     "text": [
      "\n",
      "\n",
      "\u001b[1m> Entering new AgentExecutor chain...\u001b[0m\n",
      "\u001b[32;1m\u001b[1;3m```json\n",
      "{\n",
      "       \"original_text\": \"MINISTRY OF FINANCE \\n \\n36 \\n \\nGlossary of Terms \\n \\nAssets Taxes  \\nAssets Taxes refer to Property Tax and Estate \\nDuty. Property Tax is a tax on the ownership of \\nproperty and is payable by all property owners \\non the properties owned by them. Estate Duty \\nis a tax on the total market value of a person's \\nassets (cash and non-cash) at the date of his or \\nher death. Estate Duty does not apply to a \\nperson who dies after 15 February 2008.  \\n \\nCustoms Duties \\nTaxes on goods imported into Singapore. In \\nSingapore, Customs Duties are principally \\nimposed on alcoholic beverages. \\n \\nDevelopment Expenditure \\nExpenses \\nthat \\nrepresent \\na \\nlonger-term \\ninvestment and/or are incurred on capital assets \\nin respect of or in connection with the economic \\ndevelopment or general welfare of Singapore. \\nExamples of spending areas are on the \\nacquisition of heavy equipment and capital \\nassets, e.g. buildings and roads. Land-related \\nexpenditure and net lending are excluded. \\n \\nExcise Duties \\nTaxes on goods, whether manufactured in \\nSingapore or elsewhere. In Singapore, Excise \\nDuties are imposed principally on tobacco, \\npetroleum products, motor vehicles and liquor. \\n \\nFiscal Impulse \\nThe fiscal impulse provides a measure of the \\nmacroeconomic impact of the Budget; a \\npositive impulse indicates a more expansionary \\n(or less contractionary) fiscal stance than the \\nprevious year while a negative impulse indicates \\na less expansionary (or more contractionary) \\nstance.  \\n \\nFinancial Year (FY) \\nThe Singapore Government’s Financial Year \\n2024 is from 1 April 2024 to 31 March 2025. \\n \\n \\n \\n \\nGovernment Endowment Fund \\nA fund established with an injection of \\nGovernment monies as principal, on which the \\nincome generated will be used to finance \\nspecific programmes on an ongoing basis. The \\nfive Government Endowment Funds are the \\nCommunity Care Endowment Fund, Edusave \\nEndowment Fund, ElderCare Endowment Fund, \\nLifelong Learning Endowment Fund, and \\nMedical Endowment Fund. \\n \\nSINGA Interest Costs and Loan Expenses \\nSINGA Interest Costs and Loan Expenses \\ninclude the annual effective interest cost (which \\nis computed based on the yield to maturity \\nmultiplied by the face value of the bond) and \\nother ancillary loan expenses incurred in \\nconnection with the SINGA. It excludes principal \\nrepayment and transfer of loan discount to \\nDevelopment Fund. \\n \\nMotor Vehicle Taxes \\nMotor Vehicle Taxes comprise additional \\nregistration fees, road tax, special tax on heavy-\\noil engines, passenger vehicle seating fees and \\nnon-motor vehicle licences, but exclude excise \\nduties on motor vehicles which are classified \\nunder Customs, Excise and Carbon Taxes. \\n \\nNet Investment Returns Contribution \\nContributions from the investment returns on \\nour reserves, where Net Investment Returns \\nContribution (NIRC) is the sum of: (1) up to 50% \\nof the expected long-term real return on the \\nrelevant assets specified in the Constitution; \\nand (2) up to 50% of the net investment income \\non the remaining assets.\",\n",
      "       \"normalized_date\": \"2008-02-15\",\n",
      "       \"status\": \"Expired\"\n",
      "   }\n",
      "```\u001b[0m\n",
      "\n",
      "\u001b[1m> Finished chain.\u001b[0m\n",
      "original_text=\"MINISTRY OF FINANCE \\n \\n36 \\n \\nGlossary of Terms \\n \\nAssets Taxes  \\nAssets Taxes refer to Property Tax and Estate \\nDuty. Property Tax is a tax on the ownership of \\nproperty and is payable by all property owners \\non the properties owned by them. Estate Duty \\nis a tax on the total market value of a person's \\nassets (cash and non-cash) at the date of his or \\nher death. Estate Duty does not apply to a \\nperson who dies after 15 February 2008.  \\n \\nCustoms Duties \\nTaxes on goods imported into Singapore. In \\nSingapore, Customs Duties are principally \\nimposed on alcoholic beverages. \\n \\nDevelopment Expenditure \\nExpenses \\nthat \\nrepresent \\na \\nlonger-term \\ninvestment and/or are incurred on capital assets \\nin respect of or in connection with the economic \\ndevelopment or general welfare of Singapore. \\nExamples of spending areas are on the \\nacquisition of heavy equipment and capital \\nassets, e.g. buildings and roads. Land-related \\nexpenditure and net lending are excluded. \\n \\nExcise Duties \\nTaxes on goods, whether manufactured in \\nSingapore or elsewhere. In Singapore, Excise \\nDuties are imposed principally on tobacco, \\npetroleum products, motor vehicles and liquor. \\n \\nFiscal Impulse \\nThe fiscal impulse provides a measure of the \\nmacroeconomic impact of the Budget; a \\npositive impulse indicates a more expansionary \\n(or less contractionary) fiscal stance than the \\nprevious year while a negative impulse indicates \\na less expansionary (or more contractionary) \\nstance.  \\n \\nFinancial Year (FY) \\nThe Singapore Government’s Financial Year \\n2024 is from 1 April 2024 to 31 March 2025. \\n \\n \\n \\n \\nGovernment Endowment Fund \\nA fund established with an injection of \\nGovernment monies as principal, on which the \\nincome generated will be used to finance \\nspecific programmes on an ongoing basis. The \\nfive Government Endowment Funds are the \\nCommunity Care Endowment Fund, Edusave \\nEndowment Fund, ElderCare Endowment Fund, \\nLifelong Learning Endowment Fund, and \\nMedical Endowment Fund. \\n \\nSINGA Interest Costs and Loan Expenses \\nSINGA Interest Costs and Loan Expenses \\ninclude the annual effective interest cost (which \\nis computed based on the yield to maturity \\nmultiplied by the face value of the bond) and \\nother ancillary loan expenses incurred in \\nconnection with the SINGA. It excludes principal \\nrepayment and transfer of loan discount to \\nDevelopment Fund. \\n \\nMotor Vehicle Taxes \\nMotor Vehicle Taxes comprise additional \\nregistration fees, road tax, special tax on heavy-\\noil engines, passenger vehicle seating fees and \\nnon-motor vehicle licences, but exclude excise \\nduties on motor vehicles which are classified \\nunder Customs, Excise and Carbon Taxes. \\n \\nNet Investment Returns Contribution \\nContributions from the investment returns on \\nour reserves, where Net Investment Returns \\nContribution (NIRC) is the sum of: (1) up to 50% \\nof the expected long-term real return on the \\nrelevant assets specified in the Constitution; \\nand (2) up to 50% of the net investment income \\non the remaining assets.\" normalized_date='2008-02-15' status='Expired'\n",
      "Original text: MINISTRY OF FINANCE \n",
      " \n",
      "36 \n",
      " \n",
      "Glossary of Terms \n",
      " \n",
      "Assets Taxes  \n",
      "Assets Taxes refer to Property Tax and Estate \n",
      "Duty. Property Tax is a tax on the ownership of \n",
      "property and is payable by all property owners \n",
      "on the properties owned by them. Estate Duty \n",
      "is a tax on the total market value of a person's \n",
      "assets (cash and non-cash) at the date of his or \n",
      "her death. Estate Duty does not apply to a \n",
      "person who dies after 15 February 2008.  \n",
      " \n",
      "Customs Duties \n",
      "Taxes on goods imported into Singapore. In \n",
      "Singapore, Customs Duties are principally \n",
      "imposed on alcoholic beverages. \n",
      " \n",
      "Development Expenditure \n",
      "Expenses \n",
      "that \n",
      "represent \n",
      "a \n",
      "longer-term \n",
      "investment and/or are incurred on capital assets \n",
      "in respect of or in connection with the economic \n",
      "development or general welfare of Singapore. \n",
      "Examples of spending areas are on the \n",
      "acquisition of heavy equipment and capital \n",
      "assets, e.g. buildings and roads. Land-related \n",
      "expenditure and net lending are excluded. \n",
      " \n",
      "Excise Duties \n",
      "Taxes on goods, whether manufactured in \n",
      "Singapore or elsewhere. In Singapore, Excise \n",
      "Duties are imposed principally on tobacco, \n",
      "petroleum products, motor vehicles and liquor. \n",
      " \n",
      "Fiscal Impulse \n",
      "The fiscal impulse provides a measure of the \n",
      "macroeconomic impact of the Budget; a \n",
      "positive impulse indicates a more expansionary \n",
      "(or less contractionary) fiscal stance than the \n",
      "previous year while a negative impulse indicates \n",
      "a less expansionary (or more contractionary) \n",
      "stance.  \n",
      " \n",
      "Financial Year (FY) \n",
      "The Singapore Government’s Financial Year \n",
      "2024 is from 1 April 2024 to 31 March 2025. \n",
      " \n",
      " \n",
      " \n",
      " \n",
      "Government Endowment Fund \n",
      "A fund established with an injection of \n",
      "Government monies as principal, on which the \n",
      "income generated will be used to finance \n",
      "specific programmes on an ongoing basis. The \n",
      "five Government Endowment Funds are the \n",
      "Community Care Endowment Fund, Edusave \n",
      "Endowment Fund, ElderCare Endowment Fund, \n",
      "Lifelong Learning Endowment Fund, and \n",
      "Medical Endowment Fund. \n",
      " \n",
      "SINGA Interest Costs and Loan Expenses \n",
      "SINGA Interest Costs and Loan Expenses \n",
      "include the annual effective interest cost (which \n",
      "is computed based on the yield to maturity \n",
      "multiplied by the face value of the bond) and \n",
      "other ancillary loan expenses incurred in \n",
      "connection with the SINGA. It excludes principal \n",
      "repayment and transfer of loan discount to \n",
      "Development Fund. \n",
      " \n",
      "Motor Vehicle Taxes \n",
      "Motor Vehicle Taxes comprise additional \n",
      "registration fees, road tax, special tax on heavy-\n",
      "oil engines, passenger vehicle seating fees and \n",
      "non-motor vehicle licences, but exclude excise \n",
      "duties on motor vehicles which are classified \n",
      "under Customs, Excise and Carbon Taxes. \n",
      " \n",
      "Net Investment Returns Contribution \n",
      "Contributions from the investment returns on \n",
      "our reserves, where Net Investment Returns \n",
      "Contribution (NIRC) is the sum of: (1) up to 50% \n",
      "of the expected long-term real return on the \n",
      "relevant assets specified in the Constitution; \n",
      "and (2) up to 50% of the net investment income \n",
      "on the remaining assets.\n",
      "Normalized date: 2008-02-15\n",
      "Status: Expired\n"
     ]
    }
   ],
   "source": [
    "\n",
    "page_36_result = process_with_structured_output(pdf_text[36])\n",
    "\n",
    "\n",
    "print(page_36_result)\n",
    "print(\"\\n---------\\n\")\n",
    "print(\"Original text:\", page_36_result.original_text)\n",
    "print(\"Normalized date:\", page_36_result.normalized_date)\n",
    "print(\"Status:\", page_36_result.status)"
   ]
  },
  {
   "cell_type": "code",
   "execution_count": null,
   "id": "2716d2fa",
   "metadata": {},
   "outputs": [],
   "source": []
  },
  {
   "cell_type": "code",
   "execution_count": null,
   "id": "3c2e3f3c",
   "metadata": {},
   "outputs": [],
   "source": []
  }
 ],
 "metadata": {
  "kernelspec": {
   "display_name": "Python 3",
   "language": "python",
   "name": "python3"
  },
  "language_info": {
   "codemirror_mode": {
    "name": "ipython",
    "version": 3
   },
   "file_extension": ".py",
   "mimetype": "text/x-python",
   "name": "python",
   "nbconvert_exporter": "python",
   "pygments_lexer": "ipython3",
   "version": "3.13.1"
  }
 },
 "nbformat": 4,
 "nbformat_minor": 5
}
