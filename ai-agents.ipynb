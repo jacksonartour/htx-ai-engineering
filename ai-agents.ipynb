{
 "cells": [
  {
   "cell_type": "markdown",
   "id": "738b87cd",
   "metadata": {},
   "source": [
    "# 0. load imports"
   ]
  },
  {
   "cell_type": "code",
   "execution_count": 3,
   "id": "82f9204b",
   "metadata": {},
   "outputs": [
    {
     "name": "stdout",
     "output_type": "stream",
     "text": [
      "Requirement already satisfied: pymupdf in c:\\python313\\lib\\site-packages (from -r requirements.txt (line 1)) (1.26.4)\n",
      "Requirement already satisfied: langchain in c:\\python313\\lib\\site-packages (from -r requirements.txt (line 2)) (0.3.27)\n",
      "Requirement already satisfied: langgraph in c:\\python313\\lib\\site-packages (from -r requirements.txt (line 3)) (0.6.8)\n",
      "Requirement already satisfied: langchain-core<1.0.0,>=0.3.72 in c:\\python313\\lib\\site-packages (from langchain->-r requirements.txt (line 2)) (0.3.76)\n",
      "Requirement already satisfied: langchain-text-splitters<1.0.0,>=0.3.9 in c:\\python313\\lib\\site-packages (from langchain->-r requirements.txt (line 2)) (0.3.11)\n",
      "Requirement already satisfied: langsmith>=0.1.17 in c:\\python313\\lib\\site-packages (from langchain->-r requirements.txt (line 2)) (0.4.31)\n",
      "Requirement already satisfied: pydantic<3.0.0,>=2.7.4 in c:\\python313\\lib\\site-packages (from langchain->-r requirements.txt (line 2)) (2.11.9)\n",
      "Requirement already satisfied: SQLAlchemy<3,>=1.4 in c:\\python313\\lib\\site-packages (from langchain->-r requirements.txt (line 2)) (2.0.43)\n",
      "Requirement already satisfied: requests<3,>=2 in c:\\python313\\lib\\site-packages (from langchain->-r requirements.txt (line 2)) (2.32.5)\n",
      "Requirement already satisfied: PyYAML>=5.3 in c:\\python313\\lib\\site-packages (from langchain->-r requirements.txt (line 2)) (6.0.2)\n",
      "Requirement already satisfied: langgraph-checkpoint<3.0.0,>=2.1.0 in c:\\python313\\lib\\site-packages (from langgraph->-r requirements.txt (line 3)) (2.1.1)\n",
      "Requirement already satisfied: langgraph-prebuilt<0.7.0,>=0.6.0 in c:\\python313\\lib\\site-packages (from langgraph->-r requirements.txt (line 3)) (0.6.4)\n",
      "Requirement already satisfied: langgraph-sdk<0.3.0,>=0.2.2 in c:\\python313\\lib\\site-packages (from langgraph->-r requirements.txt (line 3)) (0.2.9)\n",
      "Requirement already satisfied: xxhash>=3.5.0 in c:\\python313\\lib\\site-packages (from langgraph->-r requirements.txt (line 3)) (3.5.0)\n",
      "Requirement already satisfied: tenacity!=8.4.0,<10.0.0,>=8.1.0 in c:\\python313\\lib\\site-packages (from langchain-core<1.0.0,>=0.3.72->langchain->-r requirements.txt (line 2)) (9.1.2)\n",
      "Requirement already satisfied: jsonpatch<2.0,>=1.33 in c:\\python313\\lib\\site-packages (from langchain-core<1.0.0,>=0.3.72->langchain->-r requirements.txt (line 2)) (1.33)\n",
      "Requirement already satisfied: typing-extensions>=4.7 in c:\\python313\\lib\\site-packages (from langchain-core<1.0.0,>=0.3.72->langchain->-r requirements.txt (line 2)) (4.15.0)\n",
      "Requirement already satisfied: packaging>=23.2 in c:\\users\\riley\\appdata\\roaming\\python\\python313\\site-packages (from langchain-core<1.0.0,>=0.3.72->langchain->-r requirements.txt (line 2)) (25.0)\n",
      "Requirement already satisfied: ormsgpack>=1.10.0 in c:\\python313\\lib\\site-packages (from langgraph-checkpoint<3.0.0,>=2.1.0->langgraph->-r requirements.txt (line 3)) (1.10.0)\n",
      "Requirement already satisfied: httpx>=0.25.2 in c:\\python313\\lib\\site-packages (from langgraph-sdk<0.3.0,>=0.2.2->langgraph->-r requirements.txt (line 3)) (0.28.1)\n",
      "Requirement already satisfied: orjson>=3.10.1 in c:\\python313\\lib\\site-packages (from langgraph-sdk<0.3.0,>=0.2.2->langgraph->-r requirements.txt (line 3)) (3.11.3)\n",
      "Requirement already satisfied: requests-toolbelt>=1.0.0 in c:\\python313\\lib\\site-packages (from langsmith>=0.1.17->langchain->-r requirements.txt (line 2)) (1.0.0)\n",
      "Requirement already satisfied: zstandard>=0.23.0 in c:\\python313\\lib\\site-packages (from langsmith>=0.1.17->langchain->-r requirements.txt (line 2)) (0.25.0)\n",
      "Requirement already satisfied: annotated-types>=0.6.0 in c:\\python313\\lib\\site-packages (from pydantic<3.0.0,>=2.7.4->langchain->-r requirements.txt (line 2)) (0.7.0)\n",
      "Requirement already satisfied: pydantic-core==2.33.2 in c:\\python313\\lib\\site-packages (from pydantic<3.0.0,>=2.7.4->langchain->-r requirements.txt (line 2)) (2.33.2)\n",
      "Requirement already satisfied: typing-inspection>=0.4.0 in c:\\python313\\lib\\site-packages (from pydantic<3.0.0,>=2.7.4->langchain->-r requirements.txt (line 2)) (0.4.1)\n",
      "Requirement already satisfied: charset_normalizer<4,>=2 in c:\\python313\\lib\\site-packages (from requests<3,>=2->langchain->-r requirements.txt (line 2)) (3.4.3)\n",
      "Requirement already satisfied: idna<4,>=2.5 in c:\\python313\\lib\\site-packages (from requests<3,>=2->langchain->-r requirements.txt (line 2)) (3.10)\n",
      "Requirement already satisfied: urllib3<3,>=1.21.1 in c:\\python313\\lib\\site-packages (from requests<3,>=2->langchain->-r requirements.txt (line 2)) (2.5.0)\n",
      "Requirement already satisfied: certifi>=2017.4.17 in c:\\python313\\lib\\site-packages (from requests<3,>=2->langchain->-r requirements.txt (line 2)) (2025.8.3)\n",
      "Requirement already satisfied: greenlet>=1 in c:\\python313\\lib\\site-packages (from SQLAlchemy<3,>=1.4->langchain->-r requirements.txt (line 2)) (3.2.4)\n",
      "Requirement already satisfied: anyio in c:\\python313\\lib\\site-packages (from httpx>=0.25.2->langgraph-sdk<0.3.0,>=0.2.2->langgraph->-r requirements.txt (line 3)) (4.10.0)\n",
      "Requirement already satisfied: httpcore==1.* in c:\\python313\\lib\\site-packages (from httpx>=0.25.2->langgraph-sdk<0.3.0,>=0.2.2->langgraph->-r requirements.txt (line 3)) (1.0.9)\n",
      "Requirement already satisfied: h11>=0.16 in c:\\python313\\lib\\site-packages (from httpcore==1.*->httpx>=0.25.2->langgraph-sdk<0.3.0,>=0.2.2->langgraph->-r requirements.txt (line 3)) (0.16.0)\n",
      "Requirement already satisfied: jsonpointer>=1.9 in c:\\python313\\lib\\site-packages (from jsonpatch<2.0,>=1.33->langchain-core<1.0.0,>=0.3.72->langchain->-r requirements.txt (line 2)) (3.0.0)\n",
      "Requirement already satisfied: sniffio>=1.1 in c:\\python313\\lib\\site-packages (from anyio->httpx>=0.25.2->langgraph-sdk<0.3.0,>=0.2.2->langgraph->-r requirements.txt (line 3)) (1.3.1)\n"
     ]
    },
    {
     "name": "stderr",
     "output_type": "stream",
     "text": [
      "\n",
      "[notice] A new release of pip is available: 24.3.1 -> 25.2\n",
      "[notice] To update, run: python.exe -m pip install --upgrade pip\n"
     ]
    }
   ],
   "source": [
    "!pip install -r requirements.txt"
   ]
  },
  {
   "cell_type": "code",
   "execution_count": null,
   "id": "24715f73",
   "metadata": {},
   "outputs": [],
   "source": [
    "import json\n",
    "import re\n",
    "from typing import List, Optional\n",
    "from pydantic import BaseModel, Field\n",
    "from langchain.schema import BaseMessage, HumanMessage, SystemMessage\n",
    "from langchain.prompts import ChatPromptTemplate\n",
    "import os\n"
   ]
  },
  {
   "cell_type": "markdown",
   "id": "6b6af501",
   "metadata": {},
   "source": [
    "# 1. Document extraction & Prompt engineering"
   ]
  },
  {
   "cell_type": "code",
   "execution_count": 14,
   "id": "72f2f395",
   "metadata": {},
   "outputs": [],
   "source": [
    "DATA_SOURCE_FILE_NAME = \"fy2024_analysis_of_revenue_and_expenditure.pdf\""
   ]
  },
  {
   "cell_type": "code",
   "execution_count": 15,
   "id": "8c9c050c",
   "metadata": {},
   "outputs": [
    {
     "name": "stdout",
     "output_type": "stream",
     "text": [
      "Imports loaded successfully!\n"
     ]
    }
   ],
   "source": [
    "\n",
    "class FinancialExtractionOutput(BaseModel):\n",
    "    \"\"\"Structured output for financial data extraction from the PDF\"\"\"\n",
    "    \n",
    "    corporate_income_tax_2024: Optional[float] = Field(\n",
    "        description=\"Amount of Corporate Income Tax in 2024 (in millions or appropriate unit)\"\n",
    "    )\n",
    "    \n",
    "    yoy_percentage_corp_income_tax_2024: Optional[float] = Field(\n",
    "        description=\"Year-over-year percentage difference of Corporate Income Tax in 2024\"\n",
    "    )\n",
    "    \n",
    "    total_top_ups_2024: Optional[float] = Field(\n",
    "        description=\"Total amount of top ups in 2024 (in millions or appropriate unit)\"\n",
    "    )\n",
    "    \n",
    "    operating_revenue_taxes: List[str] = Field(\n",
    "        description=\"List of taxes mentioned in the Operating Revenue section\"\n",
    "    )\n",
    "\n",
    "print(\"Imports loaded successfully!\")"
   ]
  },
  {
   "cell_type": "code",
   "execution_count": null,
   "id": "934aed80",
   "metadata": {},
   "outputs": [
    {
     "name": "stdout",
     "output_type": "stream",
     "text": [
      "MINISTRY OF FINANCE \n",
      " \n",
      "5 \n",
      " \n",
      "01 Update on Financial Year 2023 \n",
      " \n",
      "1.1 \n",
      "Expected Overall Fiscal Position for FY2023  \n",
      " \n",
      "The basic deficit is revised to $5.4 billion (0.8% of GDP). After factoring in Top-\n",
      "ups to Endowment and Trust Funds of $24.3 billion, Net Investment Returns \n",
      "Contribution (NIRC) of $22.9 billion, Capitalisation of Nationally Significant \n",
      "Infrastructure of $3.5 billion, and Significant Infrastructure Government Loan \n",
      "Act (SINGA) Interest Costs and Loan Expenses of $0.2 billion, th\n"
     ]
    }
   ],
   "source": [
    "import fitz  \n",
    "\n",
    "with fitz.open(DATA_SOURCE_FILE_NAME) as doc:\n",
    "    pdf_text = {}\n",
    "    for page_num in range(len(doc)):\n",
    "        page = doc[page_num]\n",
    "        pdf_text[page_num + 1] = page.get_text()\n",
    "\n",
    "print(pdf_text[5][:500])"
   ]
  },
  {
   "cell_type": "code",
   "execution_count": null,
   "id": "1b8b48e5",
   "metadata": {},
   "outputs": [],
   "source": []
  }
 ],
 "metadata": {
  "kernelspec": {
   "display_name": "Python 3",
   "language": "python",
   "name": "python3"
  },
  "language_info": {
   "codemirror_mode": {
    "name": "ipython",
    "version": 3
   },
   "file_extension": ".py",
   "mimetype": "text/x-python",
   "name": "python",
   "nbconvert_exporter": "python",
   "pygments_lexer": "ipython3",
   "version": "3.13.1"
  }
 },
 "nbformat": 4,
 "nbformat_minor": 5
}
